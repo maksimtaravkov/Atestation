{
  "nbformat": 4,
  "nbformat_minor": 0,
  "metadata": {
    "colab": {
      "provenance": []
    },
    "kernelspec": {
      "name": "python3",
      "display_name": "Python 3"
    },
    "language_info": {
      "name": "python"
    }
  },
  "cells": [
    {
      "cell_type": "code",
      "source": [
        "import numpy as np"
      ],
      "metadata": {
        "id": "K_7NG8j2R5gW"
      },
      "execution_count": null,
      "outputs": []
    },
    {
      "cell_type": "code",
      "source": [
        "#Создать массив из 10-ти нулей.\n",
        "a=np.zeros(10)\n",
        "print(a)"
      ],
      "metadata": {
        "colab": {
          "base_uri": "https://localhost:8080/"
        },
        "id": "BYJh65sUI6U4",
        "outputId": "8f4d8b0d-f230-4127-8aa0-76d03410beef"
      },
      "execution_count": null,
      "outputs": [
        {
          "output_type": "stream",
          "name": "stdout",
          "text": [
            "[0. 0. 0. 0. 0. 0. 0. 0. 0. 0.]\n"
          ]
        }
      ]
    },
    {
      "cell_type": "code",
      "source": [
        "#Создать массив из 10-ти единиц.\n",
        "a=np.ones(10)\n",
        "print(a)"
      ],
      "metadata": {
        "colab": {
          "base_uri": "https://localhost:8080/"
        },
        "id": "cvg9_MpIJkce",
        "outputId": "2f0bd511-7b65-4bc8-f517-dcf79b790cbb"
      },
      "execution_count": null,
      "outputs": [
        {
          "output_type": "stream",
          "name": "stdout",
          "text": [
            "[1. 1. 1. 1. 1. 1. 1. 1. 1. 1.]\n"
          ]
        }
      ]
    },
    {
      "cell_type": "code",
      "source": [
        "#Создать массив из 10-ти пятерок.\n",
        "a=np.ones(10)*5\n",
        "print(a)"
      ],
      "metadata": {
        "colab": {
          "base_uri": "https://localhost:8080/"
        },
        "id": "zqElIjjwJ7DA",
        "outputId": "41213f63-32de-48d7-a7a1-62ac8679b920"
      },
      "execution_count": null,
      "outputs": [
        {
          "output_type": "stream",
          "name": "stdout",
          "text": [
            "[5. 5. 5. 5. 5. 5. 5. 5. 5. 5.]\n"
          ]
        }
      ]
    },
    {
      "cell_type": "code",
      "source": [
        "#Создать массив из целых чисел от 10-ти до 50-ти.\n",
        "a=np.arange(10,51)\n",
        "print(a)"
      ],
      "metadata": {
        "colab": {
          "base_uri": "https://localhost:8080/"
        },
        "id": "JQmhA9KPKYnR",
        "outputId": "f984a56e-14dd-40ac-e8b8-521291f51070"
      },
      "execution_count": null,
      "outputs": [
        {
          "output_type": "stream",
          "name": "stdout",
          "text": [
            "[10 11 12 13 14 15 16 17 18 19 20 21 22 23 24 25 26 27 28 29 30 31 32 33\n",
            " 34 35 36 37 38 39 40 41 42 43 44 45 46 47 48 49 50]\n"
          ]
        }
      ]
    },
    {
      "cell_type": "code",
      "source": [
        "#Создать массив из четных чисел от 10-ти до 50-ти.\n",
        "a=np.arange(10,51,2)\n",
        "print(a)\n"
      ],
      "metadata": {
        "id": "kigAa5X1LJEk",
        "colab": {
          "base_uri": "https://localhost:8080/"
        },
        "outputId": "b8b73afb-11ee-4605-a6e7-af66bfe6a0bd"
      },
      "execution_count": null,
      "outputs": [
        {
          "output_type": "stream",
          "name": "stdout",
          "text": [
            "[10 12 14 16 18 20 22 24 26 28 30 32 34 36 38 40 42 44 46 48 50]\n"
          ]
        }
      ]
    },
    {
      "cell_type": "code",
      "source": [
        "#Создать матрицу 3*3 с числаи от 0 до 8.\n",
        "a=np.arange(9) . reshape(3,3)\n",
        "print(a)"
      ],
      "metadata": {
        "colab": {
          "base_uri": "https://localhost:8080/"
        },
        "id": "v0XF39NCR-lT",
        "outputId": "178d082e-7fdc-4213-8d01-72d3c7b86787"
      },
      "execution_count": null,
      "outputs": [
        {
          "output_type": "stream",
          "name": "stdout",
          "text": [
            "[[0 1 2]\n",
            " [3 4 5]\n",
            " [6 7 8]]\n"
          ]
        }
      ]
    },
    {
      "cell_type": "code",
      "source": [
        "#Создать единичную матрицу 3*3.\n",
        "a=np.eye(3)\n",
        "print(a)"
      ],
      "metadata": {
        "colab": {
          "base_uri": "https://localhost:8080/"
        },
        "id": "pSnDcIcTTeOu",
        "outputId": "028690ca-b81b-465a-c7a1-273179fe7b2d"
      },
      "execution_count": null,
      "outputs": [
        {
          "output_type": "stream",
          "name": "stdout",
          "text": [
            "[[1. 0. 0.]\n",
            " [0. 1. 0.]\n",
            " [0. 0. 1.]]\n"
          ]
        }
      ]
    },
    {
      "cell_type": "code",
      "source": [
        "#Использовать NumPy для генерации случайного числа от 0 до 1.\n",
        "a=np.random.rand()\n",
        "print(a)"
      ],
      "metadata": {
        "colab": {
          "base_uri": "https://localhost:8080/"
        },
        "id": "otfCjwydTwl3",
        "outputId": "4f2d9f61-e59b-4d88-8f8c-da66e407ccbe"
      },
      "execution_count": null,
      "outputs": [
        {
          "output_type": "stream",
          "name": "stdout",
          "text": [
            "0.5070293921348333\n"
          ]
        }
      ]
    },
    {
      "cell_type": "code",
      "source": [
        "#Использовать NumPy для генерации массива из 25-ти случайных чисел, взятых из стандартного нормального распределения.\n",
        "a=np.random.rand(25)\n",
        "print(a)"
      ],
      "metadata": {
        "colab": {
          "base_uri": "https://localhost:8080/"
        },
        "id": "Ot9XfHhVUV0v",
        "outputId": "4dce02f5-dad4-4799-b3ba-cf8284aab61a"
      },
      "execution_count": null,
      "outputs": [
        {
          "output_type": "stream",
          "name": "stdout",
          "text": [
            "[0.51815395 0.99196242 0.27588466 0.97552545 0.5330472  0.9063278\n",
            " 0.50379918 0.64065622 0.12053377 0.13619429 0.32626145 0.49045742\n",
            " 0.96596678 0.25233082 0.24682263 0.06336304 0.00419022 0.83342883\n",
            " 0.1532142  0.4871312  0.33302522 0.8726049  0.54025683 0.77962503\n",
            " 0.51071768]\n"
          ]
        }
      ]
    },
    {
      "cell_type": "code",
      "source": [
        "#Создать матрицу используя функции библиотеки NumPy.\n",
        "a=np.arange(0.01,1.01,0.01) . reshape(10,10)\n",
        "print(a)"
      ],
      "metadata": {
        "colab": {
          "base_uri": "https://localhost:8080/"
        },
        "id": "G8nlIs-IVx7t",
        "outputId": "dfb33419-99b4-454f-a1dc-224285dc0047"
      },
      "execution_count": null,
      "outputs": [
        {
          "output_type": "stream",
          "name": "stdout",
          "text": [
            "[[0.01 0.02 0.03 0.04 0.05 0.06 0.07 0.08 0.09 0.1 ]\n",
            " [0.11 0.12 0.13 0.14 0.15 0.16 0.17 0.18 0.19 0.2 ]\n",
            " [0.21 0.22 0.23 0.24 0.25 0.26 0.27 0.28 0.29 0.3 ]\n",
            " [0.31 0.32 0.33 0.34 0.35 0.36 0.37 0.38 0.39 0.4 ]\n",
            " [0.41 0.42 0.43 0.44 0.45 0.46 0.47 0.48 0.49 0.5 ]\n",
            " [0.51 0.52 0.53 0.54 0.55 0.56 0.57 0.58 0.59 0.6 ]\n",
            " [0.61 0.62 0.63 0.64 0.65 0.66 0.67 0.68 0.69 0.7 ]\n",
            " [0.71 0.72 0.73 0.74 0.75 0.76 0.77 0.78 0.79 0.8 ]\n",
            " [0.81 0.82 0.83 0.84 0.85 0.86 0.87 0.88 0.89 0.9 ]\n",
            " [0.91 0.92 0.93 0.94 0.95 0.96 0.97 0.98 0.99 1.  ]]\n"
          ]
        }
      ]
    },
    {
      "cell_type": "code",
      "source": [
        "#Стартовая матрица.\n",
        "mat=np.arange(1,26).reshape(5,5)\n",
        "print(mat)"
      ],
      "metadata": {
        "colab": {
          "base_uri": "https://localhost:8080/"
        },
        "id": "AkSnQ5tbgunS",
        "outputId": "cc20f2c2-5152-4e6e-d49b-7dac1763cdfc"
      },
      "execution_count": null,
      "outputs": [
        {
          "output_type": "stream",
          "name": "stdout",
          "text": [
            "[[ 1  2  3  4  5]\n",
            " [ 6  7  8  9 10]\n",
            " [11 12 13 14 15]\n",
            " [16 17 18 19 20]\n",
            " [21 22 23 24 25]]\n"
          ]
        }
      ]
    },
    {
      "cell_type": "code",
      "source": [
        "#Написать код, который вернет следующую матрицу из стартовой.\n",
        "a=np.arange(1,26).reshape(5,5)\n",
        "print(mat[2:5, 1:5])"
      ],
      "metadata": {
        "colab": {
          "base_uri": "https://localhost:8080/"
        },
        "id": "HMU4Z4Bnlae-",
        "outputId": "30d3b6c1-0cf1-4e23-fbc6-abdf9490d683"
      },
      "execution_count": null,
      "outputs": [
        {
          "output_type": "stream",
          "name": "stdout",
          "text": [
            "[[12 13 14 15]\n",
            " [17 18 19 20]\n",
            " [22 23 24 25]]\n"
          ]
        }
      ]
    },
    {
      "cell_type": "code",
      "source": [
        "#Написать код, который вернет значение 20 из стартовой матрицы задачи.\n",
        "mat=np.arange(1,26).reshape(5,5)\n",
        "print(mat[3][4])                            "
      ],
      "metadata": {
        "colab": {
          "base_uri": "https://localhost:8080/"
        },
        "id": "Q-fUZwQxnLkx",
        "outputId": "a425dcef-18f9-4589-96e6-4405cf0996cf"
      },
      "execution_count": null,
      "outputs": [
        {
          "output_type": "stream",
          "name": "stdout",
          "text": [
            "20\n"
          ]
        }
      ]
    },
    {
      "cell_type": "code",
      "source": [
        "#Написать код к стартовой матрице задачи, который воспроизводит выводы ниже.\n",
        "mat=np.arange(1,26).reshape(5,5)\n",
        "print(mat[0:3, 1:2])"
      ],
      "metadata": {
        "colab": {
          "base_uri": "https://localhost:8080/"
        },
        "id": "LHIt_o8Jox5L",
        "outputId": "93e78fde-d4ba-47bd-efd6-242c2254a1d1"
      },
      "execution_count": null,
      "outputs": [
        {
          "output_type": "stream",
          "name": "stdout",
          "text": [
            "[[ 2]\n",
            " [ 7]\n",
            " [12]]\n"
          ]
        }
      ]
    },
    {
      "cell_type": "code",
      "source": [
        "#Написать код к стартовой матрице задачи, который воспроизводит вывод ниже.\n",
        "mat=np.arange(1,26).reshape(5,5)\n",
        "print(mat[4, :])"
      ],
      "metadata": {
        "colab": {
          "base_uri": "https://localhost:8080/"
        },
        "id": "LPDQIJp1qQ-B",
        "outputId": "667e671e-2108-4789-dee8-82e7c7991d3d"
      },
      "execution_count": null,
      "outputs": [
        {
          "output_type": "stream",
          "name": "stdout",
          "text": [
            "[21 22 23 24 25]\n"
          ]
        }
      ]
    },
    {
      "cell_type": "code",
      "source": [
        "#Написать код к стартовой матрице задачи, который воспроизводит вывод ниже.\n",
        "mat=np.arange(1,26).reshape(5,5)\n",
        "print(mat[3:5, :])"
      ],
      "metadata": {
        "colab": {
          "base_uri": "https://localhost:8080/"
        },
        "id": "WVqAkUxFrIUE",
        "outputId": "7dc79166-9633-4791-a5fa-9cfb27d86cd3"
      },
      "execution_count": null,
      "outputs": [
        {
          "output_type": "stream",
          "name": "stdout",
          "text": [
            "[[16 17 18 19 20]\n",
            " [21 22 23 24 25]]\n"
          ]
        }
      ]
    },
    {
      "cell_type": "code",
      "source": [
        "#Получить сумму всех значений в стартовой матрице mat.\n",
        "mat=np.arange(1,26).reshape(5,5)\n",
        "print(mat.sum())"
      ],
      "metadata": {
        "colab": {
          "base_uri": "https://localhost:8080/"
        },
        "id": "MBOX-dRcrzc0",
        "outputId": "3087a302-1a4c-40d6-cf23-bd25efffff5f"
      },
      "execution_count": null,
      "outputs": [
        {
          "output_type": "stream",
          "name": "stdout",
          "text": [
            "325\n"
          ]
        }
      ]
    },
    {
      "cell_type": "code",
      "source": [
        "#Получить стандартное отклонение к стартовой матрице mat.\n",
        "mat=np.arange(1,26).reshape(5,5)\n",
        "print(mat.std())"
      ],
      "metadata": {
        "colab": {
          "base_uri": "https://localhost:8080/"
        },
        "id": "5OjQVMZ6snQS",
        "outputId": "d4d044ab-f77c-4973-e411-6cd6abbdc90b"
      },
      "execution_count": null,
      "outputs": [
        {
          "output_type": "stream",
          "name": "stdout",
          "text": [
            "7.211102550927978\n"
          ]
        }
      ]
    },
    {
      "cell_type": "code",
      "source": [
        "#Получить сумму значений в колонках к стартовой матрице mat.\n",
        "mat=np.arange(1,26).reshape(5,5)\n",
        "print(mat)\n",
        "print('__________________')\n",
        "print(mat.sum(axis=0))"
      ],
      "metadata": {
        "colab": {
          "base_uri": "https://localhost:8080/"
        },
        "id": "zwRSEcDitUHM",
        "outputId": "99f8ed06-8e14-4323-fb8c-333f419b696b"
      },
      "execution_count": null,
      "outputs": [
        {
          "output_type": "stream",
          "name": "stdout",
          "text": [
            "[[ 1  2  3  4  5]\n",
            " [ 6  7  8  9 10]\n",
            " [11 12 13 14 15]\n",
            " [16 17 18 19 20]\n",
            " [21 22 23 24 25]]\n",
            "__________________\n",
            "[55 60 65 70 75]\n"
          ]
        }
      ]
    }
  ]
}